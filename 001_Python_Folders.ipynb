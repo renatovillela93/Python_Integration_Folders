{
 "cells": [
  {
   "cell_type": "markdown",
   "metadata": {},
   "source": [
    "# Python and Computer Files\n",
    "\n",
    "### Os and pathlib module\n",
    "\n",
    "The os and pathlib modules are some of the best modules/libraries for controlling your computer's folders and files. There are some other modules that can help depending on what you want to do, but in essence we will be able to use these modules to solve our challenges.\n",
    "\n",
    "We will use pathlib here so that it works well regardless of the operating system you are using.\n",
    "\n",
    "### Special attention\n",
    "\n",
    "Normally the paths on Windows, Mac or Linux computers are different, but this is something that pathlib will solve for people\n",
    "\n",
    "### Closed module\n",
    "\n",
    "For file copy and paste actions, you can even do it with the os and pathlib modules, but it is more difficult and has a greater margin of error. BUT, there is the shutil module to help with this"
   ]
  },
  {
   "cell_type": "markdown",
   "metadata": {},
   "source": [
    "- Importing the Modules"
   ]
  },
  {
   "cell_type": "raw",
   "metadata": {},
   "source": [
    "from pathlib import Path"
   ]
  },
  {
   "cell_type": "code",
   "execution_count": 1,
   "metadata": {},
   "outputs": [],
   "source": [
    "from pathlib import Path"
   ]
  },
  {
   "cell_type": "markdown",
   "metadata": {},
   "source": [
    "- Finding out where our file is"
   ]
  },
  {
   "cell_type": "raw",
   "metadata": {},
   "source": [
    "caminho = Path.cwd()"
   ]
  },
  {
   "cell_type": "code",
   "execution_count": 2,
   "metadata": {},
   "outputs": [
    {
     "name": "stdout",
     "output_type": "stream",
     "text": [
      "C:\\Users\\renat\\Documents\\PROJETO_NELSON\\CURSO-PYTHON\\016 - Python - Folders\n"
     ]
    }
   ],
   "source": [
    "print(Path.cwd()) # the actual working directory"
   ]
  },
  {
   "cell_type": "code",
   "execution_count": 4,
   "metadata": {},
   "outputs": [],
   "source": [
    "folder = Path('C:/Users/renat/Documents/PROJETO_NELSON/CURSO-PYTHON/016 - Python - Folders/Arquivos_Lojas')"
   ]
  },
  {
   "cell_type": "markdown",
   "metadata": {},
   "source": [
    "- Navigating to a specific folder"
   ]
  },
  {
   "cell_type": "raw",
   "metadata": {},
   "source": [
    "caminho = Path('pasta1/pasta2/pasta3/')"
   ]
  },
  {
   "cell_type": "markdown",
   "metadata": {},
   "source": [
    "- Listing all files in the Current Folder"
   ]
  },
  {
   "cell_type": "raw",
   "metadata": {},
   "source": [
    "arquivos = Path.iterdir()"
   ]
  },
  {
   "cell_type": "code",
   "execution_count": 5,
   "metadata": {},
   "outputs": [
    {
     "name": "stdout",
     "output_type": "stream",
     "text": [
      "C:\\Users\\renat\\Documents\\PROJETO_NELSON\\CURSO-PYTHON\\016 - Python - Folders\\Arquivos_Lojas\\201801_Amazonas Shopping_AM.csv\n",
      "C:\\Users\\renat\\Documents\\PROJETO_NELSON\\CURSO-PYTHON\\016 - Python - Folders\\Arquivos_Lojas\\201801_Barra Shopping_RJ.csv\n",
      "C:\\Users\\renat\\Documents\\PROJETO_NELSON\\CURSO-PYTHON\\016 - Python - Folders\\Arquivos_Lojas\\201801_BH Shopping_MG.csv\n",
      "C:\\Users\\renat\\Documents\\PROJETO_NELSON\\CURSO-PYTHON\\016 - Python - Folders\\Arquivos_Lojas\\201801_Bourbon_SP.csv\n",
      "C:\\Users\\renat\\Documents\\PROJETO_NELSON\\CURSO-PYTHON\\016 - Python - Folders\\Arquivos_Lojas\\201801_Buriti Shopping_GO.csv\n",
      "C:\\Users\\renat\\Documents\\PROJETO_NELSON\\CURSO-PYTHON\\016 - Python - Folders\\Arquivos_Lojas\\201801_Cidade de Sao Paulo_SP.csv\n",
      "C:\\Users\\renat\\Documents\\PROJETO_NELSON\\CURSO-PYTHON\\016 - Python - Folders\\Arquivos_Lojas\\201801_Goiania Shopping_GO.csv\n",
      "C:\\Users\\renat\\Documents\\PROJETO_NELSON\\CURSO-PYTHON\\016 - Python - Folders\\Arquivos_Lojas\\201801_Ibirapuera_SP.csv\n",
      "C:\\Users\\renat\\Documents\\PROJETO_NELSON\\CURSO-PYTHON\\016 - Python - Folders\\Arquivos_Lojas\\201801_Iguatemi_SP.csv\n",
      "C:\\Users\\renat\\Documents\\PROJETO_NELSON\\CURSO-PYTHON\\016 - Python - Folders\\Arquivos_Lojas\\201801_Independência Shopping_MG.csv\n",
      "C:\\Users\\renat\\Documents\\PROJETO_NELSON\\CURSO-PYTHON\\016 - Python - Folders\\Arquivos_Lojas\\201801_JK Iguatemi_SP.csv\n",
      "C:\\Users\\renat\\Documents\\PROJETO_NELSON\\CURSO-PYTHON\\016 - Python - Folders\\Arquivos_Lojas\\201801_Minas Shopping_MG.csv\n",
      "C:\\Users\\renat\\Documents\\PROJETO_NELSON\\CURSO-PYTHON\\016 - Python - Folders\\Arquivos_Lojas\\201801_Morumbi_SP.csv\n",
      "C:\\Users\\renat\\Documents\\PROJETO_NELSON\\CURSO-PYTHON\\016 - Python - Folders\\Arquivos_Lojas\\201801_Plaza Shopping_RJ.csv\n",
      "C:\\Users\\renat\\Documents\\PROJETO_NELSON\\CURSO-PYTHON\\016 - Python - Folders\\Arquivos_Lojas\\201801_Rio Sul_RJ.csv\n",
      "C:\\Users\\renat\\Documents\\PROJETO_NELSON\\CURSO-PYTHON\\016 - Python - Folders\\Arquivos_Lojas\\201801_Shopping Cidade_MG.csv\n",
      "C:\\Users\\renat\\Documents\\PROJETO_NELSON\\CURSO-PYTHON\\016 - Python - Folders\\Arquivos_Lojas\\201801_Shopping Leblon_RJ.csv\n",
      "C:\\Users\\renat\\Documents\\PROJETO_NELSON\\CURSO-PYTHON\\016 - Python - Folders\\Arquivos_Lojas\\201801_Shopping Tijuca_RJ.csv\n",
      "C:\\Users\\renat\\Documents\\PROJETO_NELSON\\CURSO-PYTHON\\016 - Python - Folders\\Arquivos_Lojas\\201802_Amazonas Shopping_AM.csv\n",
      "C:\\Users\\renat\\Documents\\PROJETO_NELSON\\CURSO-PYTHON\\016 - Python - Folders\\Arquivos_Lojas\\201802_Barra Shopping_RJ.csv\n",
      "C:\\Users\\renat\\Documents\\PROJETO_NELSON\\CURSO-PYTHON\\016 - Python - Folders\\Arquivos_Lojas\\201802_BH Shopping_MG.csv\n",
      "C:\\Users\\renat\\Documents\\PROJETO_NELSON\\CURSO-PYTHON\\016 - Python - Folders\\Arquivos_Lojas\\201802_Bourbon_SP.csv\n",
      "C:\\Users\\renat\\Documents\\PROJETO_NELSON\\CURSO-PYTHON\\016 - Python - Folders\\Arquivos_Lojas\\201802_Buriti Shopping_GO.csv\n",
      "C:\\Users\\renat\\Documents\\PROJETO_NELSON\\CURSO-PYTHON\\016 - Python - Folders\\Arquivos_Lojas\\201802_Cidade de Sao Paulo_SP.csv\n",
      "C:\\Users\\renat\\Documents\\PROJETO_NELSON\\CURSO-PYTHON\\016 - Python - Folders\\Arquivos_Lojas\\201802_Goiania Shopping_GO.csv\n",
      "C:\\Users\\renat\\Documents\\PROJETO_NELSON\\CURSO-PYTHON\\016 - Python - Folders\\Arquivos_Lojas\\201802_Ibirapuera_SP.csv\n",
      "C:\\Users\\renat\\Documents\\PROJETO_NELSON\\CURSO-PYTHON\\016 - Python - Folders\\Arquivos_Lojas\\201802_Iguatemi_SP.csv\n",
      "C:\\Users\\renat\\Documents\\PROJETO_NELSON\\CURSO-PYTHON\\016 - Python - Folders\\Arquivos_Lojas\\201802_Independência Shopping_MG.csv\n",
      "C:\\Users\\renat\\Documents\\PROJETO_NELSON\\CURSO-PYTHON\\016 - Python - Folders\\Arquivos_Lojas\\201802_JK Iguatemi_SP.csv\n",
      "C:\\Users\\renat\\Documents\\PROJETO_NELSON\\CURSO-PYTHON\\016 - Python - Folders\\Arquivos_Lojas\\201802_Minas Shopping_MG.csv\n",
      "C:\\Users\\renat\\Documents\\PROJETO_NELSON\\CURSO-PYTHON\\016 - Python - Folders\\Arquivos_Lojas\\201802_Morumbi_SP.csv\n",
      "C:\\Users\\renat\\Documents\\PROJETO_NELSON\\CURSO-PYTHON\\016 - Python - Folders\\Arquivos_Lojas\\201802_Plaza Shopping_RJ.csv\n",
      "C:\\Users\\renat\\Documents\\PROJETO_NELSON\\CURSO-PYTHON\\016 - Python - Folders\\Arquivos_Lojas\\201802_Rio Sul_RJ.csv\n",
      "C:\\Users\\renat\\Documents\\PROJETO_NELSON\\CURSO-PYTHON\\016 - Python - Folders\\Arquivos_Lojas\\201802_Shopping Cidade_MG.csv\n",
      "C:\\Users\\renat\\Documents\\PROJETO_NELSON\\CURSO-PYTHON\\016 - Python - Folders\\Arquivos_Lojas\\201802_Shopping Leblon_RJ.csv\n",
      "C:\\Users\\renat\\Documents\\PROJETO_NELSON\\CURSO-PYTHON\\016 - Python - Folders\\Arquivos_Lojas\\201802_Shopping Tijuca_RJ.csv\n",
      "C:\\Users\\renat\\Documents\\PROJETO_NELSON\\CURSO-PYTHON\\016 - Python - Folders\\Arquivos_Lojas\\201803_Amazonas Shopping_AM.csv\n",
      "C:\\Users\\renat\\Documents\\PROJETO_NELSON\\CURSO-PYTHON\\016 - Python - Folders\\Arquivos_Lojas\\201803_Barra Shopping_RJ.csv\n",
      "C:\\Users\\renat\\Documents\\PROJETO_NELSON\\CURSO-PYTHON\\016 - Python - Folders\\Arquivos_Lojas\\201803_BH Shopping_MG.csv\n",
      "C:\\Users\\renat\\Documents\\PROJETO_NELSON\\CURSO-PYTHON\\016 - Python - Folders\\Arquivos_Lojas\\201803_Bourbon_SP.csv\n",
      "C:\\Users\\renat\\Documents\\PROJETO_NELSON\\CURSO-PYTHON\\016 - Python - Folders\\Arquivos_Lojas\\201803_Buriti Shopping_GO.csv\n",
      "C:\\Users\\renat\\Documents\\PROJETO_NELSON\\CURSO-PYTHON\\016 - Python - Folders\\Arquivos_Lojas\\201803_Cidade de Sao Paulo_SP.csv\n",
      "C:\\Users\\renat\\Documents\\PROJETO_NELSON\\CURSO-PYTHON\\016 - Python - Folders\\Arquivos_Lojas\\201803_Goiania Shopping_GO.csv\n",
      "C:\\Users\\renat\\Documents\\PROJETO_NELSON\\CURSO-PYTHON\\016 - Python - Folders\\Arquivos_Lojas\\201803_Ibirapuera_SP.csv\n",
      "C:\\Users\\renat\\Documents\\PROJETO_NELSON\\CURSO-PYTHON\\016 - Python - Folders\\Arquivos_Lojas\\201803_Iguatemi_SP.csv\n",
      "C:\\Users\\renat\\Documents\\PROJETO_NELSON\\CURSO-PYTHON\\016 - Python - Folders\\Arquivos_Lojas\\201803_Independência Shopping_MG.csv\n",
      "C:\\Users\\renat\\Documents\\PROJETO_NELSON\\CURSO-PYTHON\\016 - Python - Folders\\Arquivos_Lojas\\201803_JK Iguatemi_SP.csv\n",
      "C:\\Users\\renat\\Documents\\PROJETO_NELSON\\CURSO-PYTHON\\016 - Python - Folders\\Arquivos_Lojas\\201803_Minas Shopping_MG.csv\n",
      "C:\\Users\\renat\\Documents\\PROJETO_NELSON\\CURSO-PYTHON\\016 - Python - Folders\\Arquivos_Lojas\\201803_Morumbi_SP.csv\n",
      "C:\\Users\\renat\\Documents\\PROJETO_NELSON\\CURSO-PYTHON\\016 - Python - Folders\\Arquivos_Lojas\\201803_Plaza Shopping_RJ.csv\n",
      "C:\\Users\\renat\\Documents\\PROJETO_NELSON\\CURSO-PYTHON\\016 - Python - Folders\\Arquivos_Lojas\\201803_Rio Sul_RJ.csv\n",
      "C:\\Users\\renat\\Documents\\PROJETO_NELSON\\CURSO-PYTHON\\016 - Python - Folders\\Arquivos_Lojas\\201803_Shopping Cidade_MG.csv\n",
      "C:\\Users\\renat\\Documents\\PROJETO_NELSON\\CURSO-PYTHON\\016 - Python - Folders\\Arquivos_Lojas\\201803_Shopping Leblon_RJ.csv\n",
      "C:\\Users\\renat\\Documents\\PROJETO_NELSON\\CURSO-PYTHON\\016 - Python - Folders\\Arquivos_Lojas\\201803_Shopping Tijuca_RJ.csv\n",
      "C:\\Users\\renat\\Documents\\PROJETO_NELSON\\CURSO-PYTHON\\016 - Python - Folders\\Arquivos_Lojas\\201804_Amazonas Shopping_AM.csv\n",
      "C:\\Users\\renat\\Documents\\PROJETO_NELSON\\CURSO-PYTHON\\016 - Python - Folders\\Arquivos_Lojas\\201804_Barra Shopping_RJ.csv\n",
      "C:\\Users\\renat\\Documents\\PROJETO_NELSON\\CURSO-PYTHON\\016 - Python - Folders\\Arquivos_Lojas\\201804_BH Shopping_MG.csv\n",
      "C:\\Users\\renat\\Documents\\PROJETO_NELSON\\CURSO-PYTHON\\016 - Python - Folders\\Arquivos_Lojas\\201804_Bourbon_SP.csv\n",
      "C:\\Users\\renat\\Documents\\PROJETO_NELSON\\CURSO-PYTHON\\016 - Python - Folders\\Arquivos_Lojas\\201804_Buriti Shopping_GO.csv\n",
      "C:\\Users\\renat\\Documents\\PROJETO_NELSON\\CURSO-PYTHON\\016 - Python - Folders\\Arquivos_Lojas\\201804_Cidade de Sao Paulo_SP.csv\n",
      "C:\\Users\\renat\\Documents\\PROJETO_NELSON\\CURSO-PYTHON\\016 - Python - Folders\\Arquivos_Lojas\\201804_Goiania Shopping_GO.csv\n",
      "C:\\Users\\renat\\Documents\\PROJETO_NELSON\\CURSO-PYTHON\\016 - Python - Folders\\Arquivos_Lojas\\201804_Ibirapuera_SP.csv\n",
      "C:\\Users\\renat\\Documents\\PROJETO_NELSON\\CURSO-PYTHON\\016 - Python - Folders\\Arquivos_Lojas\\201804_Iguatemi_SP.csv\n",
      "C:\\Users\\renat\\Documents\\PROJETO_NELSON\\CURSO-PYTHON\\016 - Python - Folders\\Arquivos_Lojas\\201804_Independência Shopping_MG.csv\n",
      "C:\\Users\\renat\\Documents\\PROJETO_NELSON\\CURSO-PYTHON\\016 - Python - Folders\\Arquivos_Lojas\\201804_JK Iguatemi_SP.csv\n",
      "C:\\Users\\renat\\Documents\\PROJETO_NELSON\\CURSO-PYTHON\\016 - Python - Folders\\Arquivos_Lojas\\201804_Minas Shopping_MG.csv\n",
      "C:\\Users\\renat\\Documents\\PROJETO_NELSON\\CURSO-PYTHON\\016 - Python - Folders\\Arquivos_Lojas\\201804_Morumbi_SP.csv\n",
      "C:\\Users\\renat\\Documents\\PROJETO_NELSON\\CURSO-PYTHON\\016 - Python - Folders\\Arquivos_Lojas\\201804_Plaza Shopping_RJ.csv\n",
      "C:\\Users\\renat\\Documents\\PROJETO_NELSON\\CURSO-PYTHON\\016 - Python - Folders\\Arquivos_Lojas\\201804_Rio Sul_RJ.csv\n",
      "C:\\Users\\renat\\Documents\\PROJETO_NELSON\\CURSO-PYTHON\\016 - Python - Folders\\Arquivos_Lojas\\201804_Shopping Cidade_MG.csv\n",
      "C:\\Users\\renat\\Documents\\PROJETO_NELSON\\CURSO-PYTHON\\016 - Python - Folders\\Arquivos_Lojas\\201804_Shopping Leblon_RJ.csv\n",
      "C:\\Users\\renat\\Documents\\PROJETO_NELSON\\CURSO-PYTHON\\016 - Python - Folders\\Arquivos_Lojas\\201804_Shopping Tijuca_RJ.csv\n",
      "C:\\Users\\renat\\Documents\\PROJETO_NELSON\\CURSO-PYTHON\\016 - Python - Folders\\Arquivos_Lojas\\201901_Amazonas Shopping_AM.csv\n",
      "C:\\Users\\renat\\Documents\\PROJETO_NELSON\\CURSO-PYTHON\\016 - Python - Folders\\Arquivos_Lojas\\201901_Barra Shopping_RJ.csv\n",
      "C:\\Users\\renat\\Documents\\PROJETO_NELSON\\CURSO-PYTHON\\016 - Python - Folders\\Arquivos_Lojas\\201901_BH Shopping_MG.csv\n",
      "C:\\Users\\renat\\Documents\\PROJETO_NELSON\\CURSO-PYTHON\\016 - Python - Folders\\Arquivos_Lojas\\201901_Bourbon_SP.csv\n",
      "C:\\Users\\renat\\Documents\\PROJETO_NELSON\\CURSO-PYTHON\\016 - Python - Folders\\Arquivos_Lojas\\201901_Buriti Shopping_GO.csv\n",
      "C:\\Users\\renat\\Documents\\PROJETO_NELSON\\CURSO-PYTHON\\016 - Python - Folders\\Arquivos_Lojas\\201901_Cidade de Sao Paulo_SP.csv\n",
      "C:\\Users\\renat\\Documents\\PROJETO_NELSON\\CURSO-PYTHON\\016 - Python - Folders\\Arquivos_Lojas\\201901_Goiania Shopping_GO.csv\n",
      "C:\\Users\\renat\\Documents\\PROJETO_NELSON\\CURSO-PYTHON\\016 - Python - Folders\\Arquivos_Lojas\\201901_Ibirapuera_SP.csv\n",
      "C:\\Users\\renat\\Documents\\PROJETO_NELSON\\CURSO-PYTHON\\016 - Python - Folders\\Arquivos_Lojas\\201901_Iguatemi_SP.csv\n",
      "C:\\Users\\renat\\Documents\\PROJETO_NELSON\\CURSO-PYTHON\\016 - Python - Folders\\Arquivos_Lojas\\201901_Independência Shopping_MG.csv\n",
      "C:\\Users\\renat\\Documents\\PROJETO_NELSON\\CURSO-PYTHON\\016 - Python - Folders\\Arquivos_Lojas\\201901_JK Iguatemi_SP.csv\n",
      "C:\\Users\\renat\\Documents\\PROJETO_NELSON\\CURSO-PYTHON\\016 - Python - Folders\\Arquivos_Lojas\\201901_Minas Shopping_MG.csv\n",
      "C:\\Users\\renat\\Documents\\PROJETO_NELSON\\CURSO-PYTHON\\016 - Python - Folders\\Arquivos_Lojas\\201901_Morumbi_SP.csv\n",
      "C:\\Users\\renat\\Documents\\PROJETO_NELSON\\CURSO-PYTHON\\016 - Python - Folders\\Arquivos_Lojas\\201901_Plaza Shopping_RJ.csv\n",
      "C:\\Users\\renat\\Documents\\PROJETO_NELSON\\CURSO-PYTHON\\016 - Python - Folders\\Arquivos_Lojas\\201901_Rio Sul_RJ.csv\n",
      "C:\\Users\\renat\\Documents\\PROJETO_NELSON\\CURSO-PYTHON\\016 - Python - Folders\\Arquivos_Lojas\\201901_Shopping Cidade_MG.csv\n",
      "C:\\Users\\renat\\Documents\\PROJETO_NELSON\\CURSO-PYTHON\\016 - Python - Folders\\Arquivos_Lojas\\201901_Shopping Leblon_RJ.csv\n",
      "C:\\Users\\renat\\Documents\\PROJETO_NELSON\\CURSO-PYTHON\\016 - Python - Folders\\Arquivos_Lojas\\201901_Shopping Tijuca_RJ.csv\n",
      "C:\\Users\\renat\\Documents\\PROJETO_NELSON\\CURSO-PYTHON\\016 - Python - Folders\\Arquivos_Lojas\\201902_Amazonas Shopping_AM.csv\n",
      "C:\\Users\\renat\\Documents\\PROJETO_NELSON\\CURSO-PYTHON\\016 - Python - Folders\\Arquivos_Lojas\\201902_Barra Shopping_RJ.csv\n",
      "C:\\Users\\renat\\Documents\\PROJETO_NELSON\\CURSO-PYTHON\\016 - Python - Folders\\Arquivos_Lojas\\201902_BH Shopping_MG.csv\n",
      "C:\\Users\\renat\\Documents\\PROJETO_NELSON\\CURSO-PYTHON\\016 - Python - Folders\\Arquivos_Lojas\\201902_Bourbon_SP.csv\n",
      "C:\\Users\\renat\\Documents\\PROJETO_NELSON\\CURSO-PYTHON\\016 - Python - Folders\\Arquivos_Lojas\\201902_Buriti Shopping_GO.csv\n",
      "C:\\Users\\renat\\Documents\\PROJETO_NELSON\\CURSO-PYTHON\\016 - Python - Folders\\Arquivos_Lojas\\201902_Cidade de Sao Paulo_SP.csv\n",
      "C:\\Users\\renat\\Documents\\PROJETO_NELSON\\CURSO-PYTHON\\016 - Python - Folders\\Arquivos_Lojas\\201902_Goiania Shopping_GO.csv\n",
      "C:\\Users\\renat\\Documents\\PROJETO_NELSON\\CURSO-PYTHON\\016 - Python - Folders\\Arquivos_Lojas\\201902_Ibirapuera_SP.csv\n",
      "C:\\Users\\renat\\Documents\\PROJETO_NELSON\\CURSO-PYTHON\\016 - Python - Folders\\Arquivos_Lojas\\201902_Iguatemi_SP.csv\n",
      "C:\\Users\\renat\\Documents\\PROJETO_NELSON\\CURSO-PYTHON\\016 - Python - Folders\\Arquivos_Lojas\\201902_Independência Shopping_MG.csv\n",
      "C:\\Users\\renat\\Documents\\PROJETO_NELSON\\CURSO-PYTHON\\016 - Python - Folders\\Arquivos_Lojas\\201902_JK Iguatemi_SP.csv\n",
      "C:\\Users\\renat\\Documents\\PROJETO_NELSON\\CURSO-PYTHON\\016 - Python - Folders\\Arquivos_Lojas\\201902_Minas Shopping_MG.csv\n",
      "C:\\Users\\renat\\Documents\\PROJETO_NELSON\\CURSO-PYTHON\\016 - Python - Folders\\Arquivos_Lojas\\201902_Morumbi_SP.csv\n",
      "C:\\Users\\renat\\Documents\\PROJETO_NELSON\\CURSO-PYTHON\\016 - Python - Folders\\Arquivos_Lojas\\201902_Plaza Shopping_RJ.csv\n",
      "C:\\Users\\renat\\Documents\\PROJETO_NELSON\\CURSO-PYTHON\\016 - Python - Folders\\Arquivos_Lojas\\201902_Rio Sul_RJ.csv\n",
      "C:\\Users\\renat\\Documents\\PROJETO_NELSON\\CURSO-PYTHON\\016 - Python - Folders\\Arquivos_Lojas\\201902_Shopping Cidade_MG.csv\n",
      "C:\\Users\\renat\\Documents\\PROJETO_NELSON\\CURSO-PYTHON\\016 - Python - Folders\\Arquivos_Lojas\\201902_Shopping Leblon_RJ.csv\n",
      "C:\\Users\\renat\\Documents\\PROJETO_NELSON\\CURSO-PYTHON\\016 - Python - Folders\\Arquivos_Lojas\\201902_Shopping Tijuca_RJ.csv\n",
      "C:\\Users\\renat\\Documents\\PROJETO_NELSON\\CURSO-PYTHON\\016 - Python - Folders\\Arquivos_Lojas\\201903_Amazonas Shopping_AM.csv\n",
      "C:\\Users\\renat\\Documents\\PROJETO_NELSON\\CURSO-PYTHON\\016 - Python - Folders\\Arquivos_Lojas\\201903_Barra Shopping_RJ.csv\n",
      "C:\\Users\\renat\\Documents\\PROJETO_NELSON\\CURSO-PYTHON\\016 - Python - Folders\\Arquivos_Lojas\\201903_BH Shopping_MG.csv\n",
      "C:\\Users\\renat\\Documents\\PROJETO_NELSON\\CURSO-PYTHON\\016 - Python - Folders\\Arquivos_Lojas\\201903_Bourbon_SP.csv\n",
      "C:\\Users\\renat\\Documents\\PROJETO_NELSON\\CURSO-PYTHON\\016 - Python - Folders\\Arquivos_Lojas\\201903_Buriti Shopping_GO.csv\n",
      "C:\\Users\\renat\\Documents\\PROJETO_NELSON\\CURSO-PYTHON\\016 - Python - Folders\\Arquivos_Lojas\\201903_Cidade de Sao Paulo_SP.csv\n",
      "C:\\Users\\renat\\Documents\\PROJETO_NELSON\\CURSO-PYTHON\\016 - Python - Folders\\Arquivos_Lojas\\201903_Goiania Shopping_GO.csv\n",
      "C:\\Users\\renat\\Documents\\PROJETO_NELSON\\CURSO-PYTHON\\016 - Python - Folders\\Arquivos_Lojas\\201903_Ibirapuera_SP.csv\n",
      "C:\\Users\\renat\\Documents\\PROJETO_NELSON\\CURSO-PYTHON\\016 - Python - Folders\\Arquivos_Lojas\\201903_Iguatemi_SP.csv\n",
      "C:\\Users\\renat\\Documents\\PROJETO_NELSON\\CURSO-PYTHON\\016 - Python - Folders\\Arquivos_Lojas\\201903_Independência Shopping_MG.csv\n",
      "C:\\Users\\renat\\Documents\\PROJETO_NELSON\\CURSO-PYTHON\\016 - Python - Folders\\Arquivos_Lojas\\201903_JK Iguatemi_SP.csv\n",
      "C:\\Users\\renat\\Documents\\PROJETO_NELSON\\CURSO-PYTHON\\016 - Python - Folders\\Arquivos_Lojas\\201903_Minas Shopping_MG.csv\n",
      "C:\\Users\\renat\\Documents\\PROJETO_NELSON\\CURSO-PYTHON\\016 - Python - Folders\\Arquivos_Lojas\\201903_Morumbi_SP.csv\n",
      "C:\\Users\\renat\\Documents\\PROJETO_NELSON\\CURSO-PYTHON\\016 - Python - Folders\\Arquivos_Lojas\\201903_Plaza Shopping_RJ.csv\n",
      "C:\\Users\\renat\\Documents\\PROJETO_NELSON\\CURSO-PYTHON\\016 - Python - Folders\\Arquivos_Lojas\\201903_Rio Sul_RJ.csv\n",
      "C:\\Users\\renat\\Documents\\PROJETO_NELSON\\CURSO-PYTHON\\016 - Python - Folders\\Arquivos_Lojas\\201903_Shopping Cidade_MG.csv\n",
      "C:\\Users\\renat\\Documents\\PROJETO_NELSON\\CURSO-PYTHON\\016 - Python - Folders\\Arquivos_Lojas\\201903_Shopping Leblon_RJ.csv\n",
      "C:\\Users\\renat\\Documents\\PROJETO_NELSON\\CURSO-PYTHON\\016 - Python - Folders\\Arquivos_Lojas\\201903_Shopping Tijuca_RJ.csv\n",
      "C:\\Users\\renat\\Documents\\PROJETO_NELSON\\CURSO-PYTHON\\016 - Python - Folders\\Arquivos_Lojas\\201904_Amazonas Shopping_AM.csv\n",
      "C:\\Users\\renat\\Documents\\PROJETO_NELSON\\CURSO-PYTHON\\016 - Python - Folders\\Arquivos_Lojas\\201904_Barra Shopping_RJ.csv\n",
      "C:\\Users\\renat\\Documents\\PROJETO_NELSON\\CURSO-PYTHON\\016 - Python - Folders\\Arquivos_Lojas\\201904_BH Shopping_MG.csv\n",
      "C:\\Users\\renat\\Documents\\PROJETO_NELSON\\CURSO-PYTHON\\016 - Python - Folders\\Arquivos_Lojas\\201904_Bourbon_SP.csv\n",
      "C:\\Users\\renat\\Documents\\PROJETO_NELSON\\CURSO-PYTHON\\016 - Python - Folders\\Arquivos_Lojas\\201904_Buriti Shopping_GO.csv\n",
      "C:\\Users\\renat\\Documents\\PROJETO_NELSON\\CURSO-PYTHON\\016 - Python - Folders\\Arquivos_Lojas\\201904_Cidade de Sao Paulo_SP.csv\n",
      "C:\\Users\\renat\\Documents\\PROJETO_NELSON\\CURSO-PYTHON\\016 - Python - Folders\\Arquivos_Lojas\\201904_Goiania Shopping_GO.csv\n",
      "C:\\Users\\renat\\Documents\\PROJETO_NELSON\\CURSO-PYTHON\\016 - Python - Folders\\Arquivos_Lojas\\201904_Ibirapuera_SP.csv\n",
      "C:\\Users\\renat\\Documents\\PROJETO_NELSON\\CURSO-PYTHON\\016 - Python - Folders\\Arquivos_Lojas\\201904_Iguatemi_SP.csv\n",
      "C:\\Users\\renat\\Documents\\PROJETO_NELSON\\CURSO-PYTHON\\016 - Python - Folders\\Arquivos_Lojas\\201904_Independência Shopping_MG.csv\n",
      "C:\\Users\\renat\\Documents\\PROJETO_NELSON\\CURSO-PYTHON\\016 - Python - Folders\\Arquivos_Lojas\\201904_JK Iguatemi_SP.csv\n",
      "C:\\Users\\renat\\Documents\\PROJETO_NELSON\\CURSO-PYTHON\\016 - Python - Folders\\Arquivos_Lojas\\201904_Minas Shopping_MG.csv\n",
      "C:\\Users\\renat\\Documents\\PROJETO_NELSON\\CURSO-PYTHON\\016 - Python - Folders\\Arquivos_Lojas\\201904_Morumbi_SP.csv\n",
      "C:\\Users\\renat\\Documents\\PROJETO_NELSON\\CURSO-PYTHON\\016 - Python - Folders\\Arquivos_Lojas\\201904_Plaza Shopping_RJ.csv\n",
      "C:\\Users\\renat\\Documents\\PROJETO_NELSON\\CURSO-PYTHON\\016 - Python - Folders\\Arquivos_Lojas\\201904_Rio Sul_RJ.csv\n",
      "C:\\Users\\renat\\Documents\\PROJETO_NELSON\\CURSO-PYTHON\\016 - Python - Folders\\Arquivos_Lojas\\201904_Shopping Cidade_MG.csv\n",
      "C:\\Users\\renat\\Documents\\PROJETO_NELSON\\CURSO-PYTHON\\016 - Python - Folders\\Arquivos_Lojas\\201904_Shopping Leblon_RJ.csv\n",
      "C:\\Users\\renat\\Documents\\PROJETO_NELSON\\CURSO-PYTHON\\016 - Python - Folders\\Arquivos_Lojas\\201904_Shopping Tijuca_RJ.csv\n",
      "C:\\Users\\renat\\Documents\\PROJETO_NELSON\\CURSO-PYTHON\\016 - Python - Folders\\Arquivos_Lojas\\202001_Amazonas Shopping_AM.csv\n",
      "C:\\Users\\renat\\Documents\\PROJETO_NELSON\\CURSO-PYTHON\\016 - Python - Folders\\Arquivos_Lojas\\202001_Barra Shopping_RJ.csv\n",
      "C:\\Users\\renat\\Documents\\PROJETO_NELSON\\CURSO-PYTHON\\016 - Python - Folders\\Arquivos_Lojas\\202001_BH Shopping_MG.csv\n",
      "C:\\Users\\renat\\Documents\\PROJETO_NELSON\\CURSO-PYTHON\\016 - Python - Folders\\Arquivos_Lojas\\202001_Bourbon_SP.csv\n",
      "C:\\Users\\renat\\Documents\\PROJETO_NELSON\\CURSO-PYTHON\\016 - Python - Folders\\Arquivos_Lojas\\202001_Buriti Shopping_GO.csv\n",
      "C:\\Users\\renat\\Documents\\PROJETO_NELSON\\CURSO-PYTHON\\016 - Python - Folders\\Arquivos_Lojas\\202001_Cidade de Sao Paulo_SP.csv\n",
      "C:\\Users\\renat\\Documents\\PROJETO_NELSON\\CURSO-PYTHON\\016 - Python - Folders\\Arquivos_Lojas\\202001_Goiania Shopping_GO.csv\n",
      "C:\\Users\\renat\\Documents\\PROJETO_NELSON\\CURSO-PYTHON\\016 - Python - Folders\\Arquivos_Lojas\\202001_Ibirapuera_SP.csv\n",
      "C:\\Users\\renat\\Documents\\PROJETO_NELSON\\CURSO-PYTHON\\016 - Python - Folders\\Arquivos_Lojas\\202001_Iguatemi_SP.csv\n",
      "C:\\Users\\renat\\Documents\\PROJETO_NELSON\\CURSO-PYTHON\\016 - Python - Folders\\Arquivos_Lojas\\202001_Independência Shopping_MG.csv\n",
      "C:\\Users\\renat\\Documents\\PROJETO_NELSON\\CURSO-PYTHON\\016 - Python - Folders\\Arquivos_Lojas\\202001_JK Iguatemi_SP.csv\n",
      "C:\\Users\\renat\\Documents\\PROJETO_NELSON\\CURSO-PYTHON\\016 - Python - Folders\\Arquivos_Lojas\\202001_Minas Shopping_MG.csv\n",
      "C:\\Users\\renat\\Documents\\PROJETO_NELSON\\CURSO-PYTHON\\016 - Python - Folders\\Arquivos_Lojas\\202001_Morumbi_SP.csv\n",
      "C:\\Users\\renat\\Documents\\PROJETO_NELSON\\CURSO-PYTHON\\016 - Python - Folders\\Arquivos_Lojas\\202001_Plaza Shopping_RJ.csv\n",
      "C:\\Users\\renat\\Documents\\PROJETO_NELSON\\CURSO-PYTHON\\016 - Python - Folders\\Arquivos_Lojas\\202001_Rio Sul_RJ.csv\n",
      "C:\\Users\\renat\\Documents\\PROJETO_NELSON\\CURSO-PYTHON\\016 - Python - Folders\\Arquivos_Lojas\\202001_Shopping Cidade_MG.csv\n",
      "C:\\Users\\renat\\Documents\\PROJETO_NELSON\\CURSO-PYTHON\\016 - Python - Folders\\Arquivos_Lojas\\202001_Shopping Leblon_RJ.csv\n",
      "C:\\Users\\renat\\Documents\\PROJETO_NELSON\\CURSO-PYTHON\\016 - Python - Folders\\Arquivos_Lojas\\202001_Shopping Tijuca_RJ.csv\n",
      "C:\\Users\\renat\\Documents\\PROJETO_NELSON\\CURSO-PYTHON\\016 - Python - Folders\\Arquivos_Lojas\\202002_Amazonas Shopping_AM.csv\n",
      "C:\\Users\\renat\\Documents\\PROJETO_NELSON\\CURSO-PYTHON\\016 - Python - Folders\\Arquivos_Lojas\\202002_Barra Shopping_RJ.csv\n",
      "C:\\Users\\renat\\Documents\\PROJETO_NELSON\\CURSO-PYTHON\\016 - Python - Folders\\Arquivos_Lojas\\202002_BH Shopping_MG.csv\n",
      "C:\\Users\\renat\\Documents\\PROJETO_NELSON\\CURSO-PYTHON\\016 - Python - Folders\\Arquivos_Lojas\\202002_Bourbon_SP.csv\n",
      "C:\\Users\\renat\\Documents\\PROJETO_NELSON\\CURSO-PYTHON\\016 - Python - Folders\\Arquivos_Lojas\\202002_Buriti Shopping_GO.csv\n",
      "C:\\Users\\renat\\Documents\\PROJETO_NELSON\\CURSO-PYTHON\\016 - Python - Folders\\Arquivos_Lojas\\202002_Cidade de Sao Paulo_SP.csv\n",
      "C:\\Users\\renat\\Documents\\PROJETO_NELSON\\CURSO-PYTHON\\016 - Python - Folders\\Arquivos_Lojas\\202002_Goiania Shopping_GO.csv\n",
      "C:\\Users\\renat\\Documents\\PROJETO_NELSON\\CURSO-PYTHON\\016 - Python - Folders\\Arquivos_Lojas\\202002_Ibirapuera_SP.csv\n",
      "C:\\Users\\renat\\Documents\\PROJETO_NELSON\\CURSO-PYTHON\\016 - Python - Folders\\Arquivos_Lojas\\202002_Iguatemi_SP.csv\n",
      "C:\\Users\\renat\\Documents\\PROJETO_NELSON\\CURSO-PYTHON\\016 - Python - Folders\\Arquivos_Lojas\\202002_Independência Shopping_MG.csv\n",
      "C:\\Users\\renat\\Documents\\PROJETO_NELSON\\CURSO-PYTHON\\016 - Python - Folders\\Arquivos_Lojas\\202002_JK Iguatemi_SP.csv\n",
      "C:\\Users\\renat\\Documents\\PROJETO_NELSON\\CURSO-PYTHON\\016 - Python - Folders\\Arquivos_Lojas\\202002_Minas Shopping_MG.csv\n",
      "C:\\Users\\renat\\Documents\\PROJETO_NELSON\\CURSO-PYTHON\\016 - Python - Folders\\Arquivos_Lojas\\202002_Morumbi_SP.csv\n",
      "C:\\Users\\renat\\Documents\\PROJETO_NELSON\\CURSO-PYTHON\\016 - Python - Folders\\Arquivos_Lojas\\202002_Plaza Shopping_RJ.csv\n",
      "C:\\Users\\renat\\Documents\\PROJETO_NELSON\\CURSO-PYTHON\\016 - Python - Folders\\Arquivos_Lojas\\202002_Rio Sul_RJ.csv\n",
      "C:\\Users\\renat\\Documents\\PROJETO_NELSON\\CURSO-PYTHON\\016 - Python - Folders\\Arquivos_Lojas\\202002_Shopping Cidade_MG.csv\n",
      "C:\\Users\\renat\\Documents\\PROJETO_NELSON\\CURSO-PYTHON\\016 - Python - Folders\\Arquivos_Lojas\\202002_Shopping Leblon_RJ.csv\n",
      "C:\\Users\\renat\\Documents\\PROJETO_NELSON\\CURSO-PYTHON\\016 - Python - Folders\\Arquivos_Lojas\\202002_Shopping Tijuca_RJ.csv\n",
      "C:\\Users\\renat\\Documents\\PROJETO_NELSON\\CURSO-PYTHON\\016 - Python - Folders\\Arquivos_Lojas\\202003_Amazonas Shopping_AM.csv\n",
      "C:\\Users\\renat\\Documents\\PROJETO_NELSON\\CURSO-PYTHON\\016 - Python - Folders\\Arquivos_Lojas\\202003_Barra Shopping_RJ.csv\n",
      "C:\\Users\\renat\\Documents\\PROJETO_NELSON\\CURSO-PYTHON\\016 - Python - Folders\\Arquivos_Lojas\\202003_BH Shopping_MG.csv\n",
      "C:\\Users\\renat\\Documents\\PROJETO_NELSON\\CURSO-PYTHON\\016 - Python - Folders\\Arquivos_Lojas\\202003_Bourbon_SP.csv\n",
      "C:\\Users\\renat\\Documents\\PROJETO_NELSON\\CURSO-PYTHON\\016 - Python - Folders\\Arquivos_Lojas\\202003_Buriti Shopping_GO.csv\n",
      "C:\\Users\\renat\\Documents\\PROJETO_NELSON\\CURSO-PYTHON\\016 - Python - Folders\\Arquivos_Lojas\\202003_Cidade de Sao Paulo_SP.csv\n",
      "C:\\Users\\renat\\Documents\\PROJETO_NELSON\\CURSO-PYTHON\\016 - Python - Folders\\Arquivos_Lojas\\202003_Goiania Shopping_GO.csv\n",
      "C:\\Users\\renat\\Documents\\PROJETO_NELSON\\CURSO-PYTHON\\016 - Python - Folders\\Arquivos_Lojas\\202003_Ibirapuera_SP.csv\n",
      "C:\\Users\\renat\\Documents\\PROJETO_NELSON\\CURSO-PYTHON\\016 - Python - Folders\\Arquivos_Lojas\\202003_Iguatemi_SP.csv\n",
      "C:\\Users\\renat\\Documents\\PROJETO_NELSON\\CURSO-PYTHON\\016 - Python - Folders\\Arquivos_Lojas\\202003_Independência Shopping_MG.csv\n",
      "C:\\Users\\renat\\Documents\\PROJETO_NELSON\\CURSO-PYTHON\\016 - Python - Folders\\Arquivos_Lojas\\202003_JK Iguatemi_SP.csv\n",
      "C:\\Users\\renat\\Documents\\PROJETO_NELSON\\CURSO-PYTHON\\016 - Python - Folders\\Arquivos_Lojas\\202003_Minas Shopping_MG.csv\n",
      "C:\\Users\\renat\\Documents\\PROJETO_NELSON\\CURSO-PYTHON\\016 - Python - Folders\\Arquivos_Lojas\\202003_Morumbi_SP.csv\n",
      "C:\\Users\\renat\\Documents\\PROJETO_NELSON\\CURSO-PYTHON\\016 - Python - Folders\\Arquivos_Lojas\\202003_Plaza Shopping_RJ.csv\n",
      "C:\\Users\\renat\\Documents\\PROJETO_NELSON\\CURSO-PYTHON\\016 - Python - Folders\\Arquivos_Lojas\\202003_Rio Sul_RJ.csv\n",
      "C:\\Users\\renat\\Documents\\PROJETO_NELSON\\CURSO-PYTHON\\016 - Python - Folders\\Arquivos_Lojas\\202003_Shopping Cidade_MG.csv\n",
      "C:\\Users\\renat\\Documents\\PROJETO_NELSON\\CURSO-PYTHON\\016 - Python - Folders\\Arquivos_Lojas\\202003_Shopping Leblon_RJ.csv\n",
      "C:\\Users\\renat\\Documents\\PROJETO_NELSON\\CURSO-PYTHON\\016 - Python - Folders\\Arquivos_Lojas\\202003_Shopping Tijuca_RJ.csv\n",
      "C:\\Users\\renat\\Documents\\PROJETO_NELSON\\CURSO-PYTHON\\016 - Python - Folders\\Arquivos_Lojas\\202004_Amazonas Shopping_AM.csv\n",
      "C:\\Users\\renat\\Documents\\PROJETO_NELSON\\CURSO-PYTHON\\016 - Python - Folders\\Arquivos_Lojas\\202004_Barra Shopping_RJ.csv\n",
      "C:\\Users\\renat\\Documents\\PROJETO_NELSON\\CURSO-PYTHON\\016 - Python - Folders\\Arquivos_Lojas\\202004_BH Shopping_MG.csv\n",
      "C:\\Users\\renat\\Documents\\PROJETO_NELSON\\CURSO-PYTHON\\016 - Python - Folders\\Arquivos_Lojas\\202004_Bourbon_SP.csv\n",
      "C:\\Users\\renat\\Documents\\PROJETO_NELSON\\CURSO-PYTHON\\016 - Python - Folders\\Arquivos_Lojas\\202004_Buriti Shopping_GO.csv\n",
      "C:\\Users\\renat\\Documents\\PROJETO_NELSON\\CURSO-PYTHON\\016 - Python - Folders\\Arquivos_Lojas\\202004_Cidade de Sao Paulo_SP.csv\n",
      "C:\\Users\\renat\\Documents\\PROJETO_NELSON\\CURSO-PYTHON\\016 - Python - Folders\\Arquivos_Lojas\\202004_Goiania Shopping_GO.csv\n",
      "C:\\Users\\renat\\Documents\\PROJETO_NELSON\\CURSO-PYTHON\\016 - Python - Folders\\Arquivos_Lojas\\202004_Ibirapuera_SP.csv\n",
      "C:\\Users\\renat\\Documents\\PROJETO_NELSON\\CURSO-PYTHON\\016 - Python - Folders\\Arquivos_Lojas\\202004_Iguatemi_SP.csv\n",
      "C:\\Users\\renat\\Documents\\PROJETO_NELSON\\CURSO-PYTHON\\016 - Python - Folders\\Arquivos_Lojas\\202004_Independência Shopping_MG.csv\n",
      "C:\\Users\\renat\\Documents\\PROJETO_NELSON\\CURSO-PYTHON\\016 - Python - Folders\\Arquivos_Lojas\\202004_JK Iguatemi_SP.csv\n",
      "C:\\Users\\renat\\Documents\\PROJETO_NELSON\\CURSO-PYTHON\\016 - Python - Folders\\Arquivos_Lojas\\202004_Minas Shopping_MG.csv\n",
      "C:\\Users\\renat\\Documents\\PROJETO_NELSON\\CURSO-PYTHON\\016 - Python - Folders\\Arquivos_Lojas\\202004_Morumbi_SP.csv\n",
      "C:\\Users\\renat\\Documents\\PROJETO_NELSON\\CURSO-PYTHON\\016 - Python - Folders\\Arquivos_Lojas\\202004_Plaza Shopping_RJ.csv\n",
      "C:\\Users\\renat\\Documents\\PROJETO_NELSON\\CURSO-PYTHON\\016 - Python - Folders\\Arquivos_Lojas\\202004_Rio Sul_RJ.csv\n",
      "C:\\Users\\renat\\Documents\\PROJETO_NELSON\\CURSO-PYTHON\\016 - Python - Folders\\Arquivos_Lojas\\202004_Shopping Cidade_MG.csv\n",
      "C:\\Users\\renat\\Documents\\PROJETO_NELSON\\CURSO-PYTHON\\016 - Python - Folders\\Arquivos_Lojas\\202004_Shopping Leblon_RJ.csv\n",
      "C:\\Users\\renat\\Documents\\PROJETO_NELSON\\CURSO-PYTHON\\016 - Python - Folders\\Arquivos_Lojas\\202004_Shopping Tijuca_RJ.csv\n"
     ]
    }
   ],
   "source": [
    "folder = folder.iterdir()\n",
    "\n",
    "for file in folder:\n",
    "    print(file)"
   ]
  },
  {
   "cell_type": "markdown",
   "metadata": {},
   "source": [
    "- Creating a folder"
   ]
  },
  {
   "cell_type": "raw",
   "metadata": {},
   "source": [
    "Path('pasta/nova_pasta').mkdir()"
   ]
  },
  {
   "cell_type": "code",
   "execution_count": 10,
   "metadata": {},
   "outputs": [],
   "source": [
    "Path('C:/Users/renat/Documents/PROJETO_NELSON/CURSO-PYTHON/016 - Python - Folders/Arquivos_Lojas/New_Folder_test').mkdir()"
   ]
  },
  {
   "cell_type": "markdown",
   "metadata": {},
   "source": [
    "- Checking if a File Exists"
   ]
  },
  {
   "cell_type": "raw",
   "metadata": {},
   "source": [
    "arquivo = Path('pasta/arquivo.extensao')\n",
    "arquivo.exists()"
   ]
  },
  {
   "cell_type": "code",
   "execution_count": 9,
   "metadata": {},
   "outputs": [
    {
     "name": "stdout",
     "output_type": "stream",
     "text": [
      "The file exist.\n"
     ]
    }
   ],
   "source": [
    "if Path('C:/Users/renat/Documents/PROJETO_NELSON/CURSO-PYTHON/016 - Python - Folders/Arquivos_Lojas/201801_Iguatemi_SP.csv').exists():\n",
    "    print('The file exist.')"
   ]
  },
  {
   "cell_type": "markdown",
   "metadata": {},
   "source": [
    "- Copying a File"
   ]
  },
  {
   "cell_type": "raw",
   "metadata": {},
   "source": [
    "import shutil\n",
    "shutil.copy2('arquivo_para_copiar.extensao', 'nome_da_copia_criada.extensao')"
   ]
  },
  {
   "cell_type": "code",
   "execution_count": 12,
   "metadata": {},
   "outputs": [
    {
     "data": {
      "text/plain": [
       "WindowsPath('C:/Users/renat/Documents/PROJETO_NELSON/CURSO-PYTHON/016 - Python - Folders/Arquivos_Lojas/New_Folder_test/201801_Iguatemi_SP_copy.csv')"
      ]
     },
     "execution_count": 12,
     "metadata": {},
     "output_type": "execute_result"
    }
   ],
   "source": [
    "import shutil\n",
    "\n",
    "file_copy = Path('C:/Users/renat/Documents/PROJETO_NELSON/CURSO-PYTHON/016 - Python - Folders/Arquivos_Lojas/201801_Iguatemi_SP.csv')\n",
    "file_paste = Path('C:/Users/renat/Documents/PROJETO_NELSON/CURSO-PYTHON/016 - Python - Folders/Arquivos_Lojas/New_Folder_test/201801_Iguatemi_SP_copy.csv')\n",
    "shutil.copy2(file_copy, file_paste)\n"
   ]
  },
  {
   "cell_type": "markdown",
   "metadata": {},
   "source": [
    "- Moving a File"
   ]
  },
  {
   "cell_type": "raw",
   "metadata": {},
   "source": [
    "2 ways:\n",
    "\n",
    "Path('path/archive.extension').rename('new_path/archive.extension')<br>\n",
    "\n",
    "or\n",
    "\n",
    "shutil.move(Path('path/archive.extension'), Path('new_path/archive.extension'))"
   ]
  },
  {
   "cell_type": "markdown",
   "metadata": {},
   "source": [
    "### Project\n",
    "\n",
    "You work at a company that has 18 stores spread across Brazil and divided into 5 different states:\n",
    "- RJ\n",
    "-SP\n",
    "- MG\n",
    "- GO\n",
    "-AM\n",
    "\n",
    "Every quarter, the indicators for each employee in each store are calculated and these indicators are stored in an Excel file.\n",
    "\n",
    "Each state has 1 General Manager responsible for all stores in those states.\n",
    "\n",
    "They asked you to send each General Manager all the indicator bases corresponding to the stores he is responsible for, because their team needs these indicators.\n",
    "\n",
    "Note: We will not send them by email because we have not yet learned how to do this, but we will leave all the files in a single folder for each manager, that is, for each state.\n",
    "\n",
    "So your challenge is to separate all the files so that each file is in the state folder corresponding to that file.\n",
    "\n",
    "Note: To get the name of a file as text in the pathlib, you can use Path.name or file.name:<br>\n",
    "path = Path('Folder/File.csv')<br>\n",
    "print(path.name) -> response: 'File.csv'"
   ]
  },
  {
   "cell_type": "code",
   "execution_count": 13,
   "metadata": {},
   "outputs": [],
   "source": [
    "from pathlib import Path\n",
    "import shutil\n",
    "\n",
    "states = ['RJ', 'SP', 'MG', 'GO', 'AM']\n",
    "\n",
    "for state in states:\n",
    "    Path(f'Arquivos_Lojas/{state}').mkdir()"
   ]
  },
  {
   "cell_type": "code",
   "execution_count": 14,
   "metadata": {},
   "outputs": [
    {
     "name": "stdout",
     "output_type": "stream",
     "text": [
      "Arquivos_Lojas\\201801_Amazonas Shopping_AM.csv\n",
      "Arquivos_Lojas\\201801_Barra Shopping_RJ.csv\n",
      "Arquivos_Lojas\\201801_BH Shopping_MG.csv\n",
      "Arquivos_Lojas\\201801_Bourbon_SP.csv\n",
      "Arquivos_Lojas\\201801_Buriti Shopping_GO.csv\n",
      "Arquivos_Lojas\\201801_Cidade de Sao Paulo_SP.csv\n",
      "Arquivos_Lojas\\201801_Goiania Shopping_GO.csv\n",
      "Arquivos_Lojas\\201801_Ibirapuera_SP.csv\n",
      "Arquivos_Lojas\\201801_Iguatemi_SP.csv\n",
      "Arquivos_Lojas\\201801_Independência Shopping_MG.csv\n",
      "Arquivos_Lojas\\201801_JK Iguatemi_SP.csv\n",
      "Arquivos_Lojas\\201801_Minas Shopping_MG.csv\n",
      "Arquivos_Lojas\\201801_Morumbi_SP.csv\n",
      "Arquivos_Lojas\\201801_Plaza Shopping_RJ.csv\n",
      "Arquivos_Lojas\\201801_Rio Sul_RJ.csv\n",
      "Arquivos_Lojas\\201801_Shopping Cidade_MG.csv\n",
      "Arquivos_Lojas\\201801_Shopping Leblon_RJ.csv\n",
      "Arquivos_Lojas\\201801_Shopping Tijuca_RJ.csv\n",
      "Arquivos_Lojas\\201802_Amazonas Shopping_AM.csv\n",
      "Arquivos_Lojas\\201802_Barra Shopping_RJ.csv\n",
      "Arquivos_Lojas\\201802_BH Shopping_MG.csv\n",
      "Arquivos_Lojas\\201802_Bourbon_SP.csv\n",
      "Arquivos_Lojas\\201802_Buriti Shopping_GO.csv\n",
      "Arquivos_Lojas\\201802_Cidade de Sao Paulo_SP.csv\n",
      "Arquivos_Lojas\\201802_Goiania Shopping_GO.csv\n",
      "Arquivos_Lojas\\201802_Ibirapuera_SP.csv\n",
      "Arquivos_Lojas\\201802_Iguatemi_SP.csv\n",
      "Arquivos_Lojas\\201802_Independência Shopping_MG.csv\n",
      "Arquivos_Lojas\\201802_JK Iguatemi_SP.csv\n",
      "Arquivos_Lojas\\201802_Minas Shopping_MG.csv\n",
      "Arquivos_Lojas\\201802_Morumbi_SP.csv\n",
      "Arquivos_Lojas\\201802_Plaza Shopping_RJ.csv\n",
      "Arquivos_Lojas\\201802_Rio Sul_RJ.csv\n",
      "Arquivos_Lojas\\201802_Shopping Cidade_MG.csv\n",
      "Arquivos_Lojas\\201802_Shopping Leblon_RJ.csv\n",
      "Arquivos_Lojas\\201802_Shopping Tijuca_RJ.csv\n",
      "Arquivos_Lojas\\201803_Amazonas Shopping_AM.csv\n",
      "Arquivos_Lojas\\201803_Barra Shopping_RJ.csv\n",
      "Arquivos_Lojas\\201803_BH Shopping_MG.csv\n",
      "Arquivos_Lojas\\201803_Bourbon_SP.csv\n",
      "Arquivos_Lojas\\201803_Buriti Shopping_GO.csv\n",
      "Arquivos_Lojas\\201803_Cidade de Sao Paulo_SP.csv\n",
      "Arquivos_Lojas\\201803_Goiania Shopping_GO.csv\n",
      "Arquivos_Lojas\\201803_Ibirapuera_SP.csv\n",
      "Arquivos_Lojas\\201803_Iguatemi_SP.csv\n",
      "Arquivos_Lojas\\201803_Independência Shopping_MG.csv\n",
      "Arquivos_Lojas\\201803_JK Iguatemi_SP.csv\n",
      "Arquivos_Lojas\\201803_Minas Shopping_MG.csv\n",
      "Arquivos_Lojas\\201803_Morumbi_SP.csv\n",
      "Arquivos_Lojas\\201803_Plaza Shopping_RJ.csv\n",
      "Arquivos_Lojas\\201803_Rio Sul_RJ.csv\n",
      "Arquivos_Lojas\\201803_Shopping Cidade_MG.csv\n",
      "Arquivos_Lojas\\201803_Shopping Leblon_RJ.csv\n",
      "Arquivos_Lojas\\201803_Shopping Tijuca_RJ.csv\n",
      "Arquivos_Lojas\\201804_Amazonas Shopping_AM.csv\n",
      "Arquivos_Lojas\\201804_Barra Shopping_RJ.csv\n",
      "Arquivos_Lojas\\201804_BH Shopping_MG.csv\n",
      "Arquivos_Lojas\\201804_Bourbon_SP.csv\n",
      "Arquivos_Lojas\\201804_Buriti Shopping_GO.csv\n",
      "Arquivos_Lojas\\201804_Cidade de Sao Paulo_SP.csv\n",
      "Arquivos_Lojas\\201804_Goiania Shopping_GO.csv\n",
      "Arquivos_Lojas\\201804_Ibirapuera_SP.csv\n",
      "Arquivos_Lojas\\201804_Iguatemi_SP.csv\n",
      "Arquivos_Lojas\\201804_Independência Shopping_MG.csv\n",
      "Arquivos_Lojas\\201804_JK Iguatemi_SP.csv\n",
      "Arquivos_Lojas\\201804_Minas Shopping_MG.csv\n",
      "Arquivos_Lojas\\201804_Morumbi_SP.csv\n",
      "Arquivos_Lojas\\201804_Plaza Shopping_RJ.csv\n",
      "Arquivos_Lojas\\201804_Rio Sul_RJ.csv\n",
      "Arquivos_Lojas\\201804_Shopping Cidade_MG.csv\n",
      "Arquivos_Lojas\\201804_Shopping Leblon_RJ.csv\n",
      "Arquivos_Lojas\\201804_Shopping Tijuca_RJ.csv\n",
      "Arquivos_Lojas\\201901_Amazonas Shopping_AM.csv\n",
      "Arquivos_Lojas\\201901_Barra Shopping_RJ.csv\n",
      "Arquivos_Lojas\\201901_BH Shopping_MG.csv\n",
      "Arquivos_Lojas\\201901_Bourbon_SP.csv\n",
      "Arquivos_Lojas\\201901_Buriti Shopping_GO.csv\n",
      "Arquivos_Lojas\\201901_Cidade de Sao Paulo_SP.csv\n",
      "Arquivos_Lojas\\201901_Goiania Shopping_GO.csv\n",
      "Arquivos_Lojas\\201901_Ibirapuera_SP.csv\n",
      "Arquivos_Lojas\\201901_Iguatemi_SP.csv\n",
      "Arquivos_Lojas\\201901_Independência Shopping_MG.csv\n",
      "Arquivos_Lojas\\201901_JK Iguatemi_SP.csv\n",
      "Arquivos_Lojas\\201901_Minas Shopping_MG.csv\n",
      "Arquivos_Lojas\\201901_Morumbi_SP.csv\n",
      "Arquivos_Lojas\\201901_Plaza Shopping_RJ.csv\n",
      "Arquivos_Lojas\\201901_Rio Sul_RJ.csv\n",
      "Arquivos_Lojas\\201901_Shopping Cidade_MG.csv\n",
      "Arquivos_Lojas\\201901_Shopping Leblon_RJ.csv\n",
      "Arquivos_Lojas\\201901_Shopping Tijuca_RJ.csv\n",
      "Arquivos_Lojas\\201902_Amazonas Shopping_AM.csv\n",
      "Arquivos_Lojas\\201902_Barra Shopping_RJ.csv\n",
      "Arquivos_Lojas\\201902_BH Shopping_MG.csv\n",
      "Arquivos_Lojas\\201902_Bourbon_SP.csv\n",
      "Arquivos_Lojas\\201902_Buriti Shopping_GO.csv\n",
      "Arquivos_Lojas\\201902_Cidade de Sao Paulo_SP.csv\n",
      "Arquivos_Lojas\\201902_Goiania Shopping_GO.csv\n",
      "Arquivos_Lojas\\201902_Ibirapuera_SP.csv\n",
      "Arquivos_Lojas\\201902_Iguatemi_SP.csv\n",
      "Arquivos_Lojas\\201902_Independência Shopping_MG.csv\n",
      "Arquivos_Lojas\\201902_JK Iguatemi_SP.csv\n",
      "Arquivos_Lojas\\201902_Minas Shopping_MG.csv\n",
      "Arquivos_Lojas\\201902_Morumbi_SP.csv\n",
      "Arquivos_Lojas\\201902_Plaza Shopping_RJ.csv\n",
      "Arquivos_Lojas\\201902_Rio Sul_RJ.csv\n",
      "Arquivos_Lojas\\201902_Shopping Cidade_MG.csv\n",
      "Arquivos_Lojas\\201902_Shopping Leblon_RJ.csv\n",
      "Arquivos_Lojas\\201902_Shopping Tijuca_RJ.csv\n",
      "Arquivos_Lojas\\201903_Amazonas Shopping_AM.csv\n",
      "Arquivos_Lojas\\201903_Barra Shopping_RJ.csv\n",
      "Arquivos_Lojas\\201903_BH Shopping_MG.csv\n",
      "Arquivos_Lojas\\201903_Bourbon_SP.csv\n",
      "Arquivos_Lojas\\201903_Buriti Shopping_GO.csv\n",
      "Arquivos_Lojas\\201903_Cidade de Sao Paulo_SP.csv\n",
      "Arquivos_Lojas\\201903_Goiania Shopping_GO.csv\n",
      "Arquivos_Lojas\\201903_Ibirapuera_SP.csv\n",
      "Arquivos_Lojas\\201903_Iguatemi_SP.csv\n",
      "Arquivos_Lojas\\201903_Independência Shopping_MG.csv\n",
      "Arquivos_Lojas\\201903_JK Iguatemi_SP.csv\n",
      "Arquivos_Lojas\\201903_Minas Shopping_MG.csv\n",
      "Arquivos_Lojas\\201903_Morumbi_SP.csv\n",
      "Arquivos_Lojas\\201903_Plaza Shopping_RJ.csv\n",
      "Arquivos_Lojas\\201903_Rio Sul_RJ.csv\n",
      "Arquivos_Lojas\\201903_Shopping Cidade_MG.csv\n",
      "Arquivos_Lojas\\201903_Shopping Leblon_RJ.csv\n",
      "Arquivos_Lojas\\201903_Shopping Tijuca_RJ.csv\n",
      "Arquivos_Lojas\\201904_Amazonas Shopping_AM.csv\n",
      "Arquivos_Lojas\\201904_Barra Shopping_RJ.csv\n",
      "Arquivos_Lojas\\201904_BH Shopping_MG.csv\n",
      "Arquivos_Lojas\\201904_Bourbon_SP.csv\n",
      "Arquivos_Lojas\\201904_Buriti Shopping_GO.csv\n",
      "Arquivos_Lojas\\201904_Cidade de Sao Paulo_SP.csv\n",
      "Arquivos_Lojas\\201904_Goiania Shopping_GO.csv\n",
      "Arquivos_Lojas\\201904_Ibirapuera_SP.csv\n",
      "Arquivos_Lojas\\201904_Iguatemi_SP.csv\n",
      "Arquivos_Lojas\\201904_Independência Shopping_MG.csv\n",
      "Arquivos_Lojas\\201904_JK Iguatemi_SP.csv\n",
      "Arquivos_Lojas\\201904_Minas Shopping_MG.csv\n",
      "Arquivos_Lojas\\201904_Morumbi_SP.csv\n",
      "Arquivos_Lojas\\201904_Plaza Shopping_RJ.csv\n",
      "Arquivos_Lojas\\201904_Rio Sul_RJ.csv\n",
      "Arquivos_Lojas\\201904_Shopping Cidade_MG.csv\n",
      "Arquivos_Lojas\\201904_Shopping Leblon_RJ.csv\n",
      "Arquivos_Lojas\\201904_Shopping Tijuca_RJ.csv\n",
      "Arquivos_Lojas\\202001_Amazonas Shopping_AM.csv\n",
      "Arquivos_Lojas\\202001_Barra Shopping_RJ.csv\n",
      "Arquivos_Lojas\\202001_BH Shopping_MG.csv\n",
      "Arquivos_Lojas\\202001_Bourbon_SP.csv\n",
      "Arquivos_Lojas\\202001_Buriti Shopping_GO.csv\n",
      "Arquivos_Lojas\\202001_Cidade de Sao Paulo_SP.csv\n",
      "Arquivos_Lojas\\202001_Goiania Shopping_GO.csv\n",
      "Arquivos_Lojas\\202001_Ibirapuera_SP.csv\n",
      "Arquivos_Lojas\\202001_Iguatemi_SP.csv\n",
      "Arquivos_Lojas\\202001_Independência Shopping_MG.csv\n",
      "Arquivos_Lojas\\202001_JK Iguatemi_SP.csv\n",
      "Arquivos_Lojas\\202001_Minas Shopping_MG.csv\n",
      "Arquivos_Lojas\\202001_Morumbi_SP.csv\n",
      "Arquivos_Lojas\\202001_Plaza Shopping_RJ.csv\n",
      "Arquivos_Lojas\\202001_Rio Sul_RJ.csv\n",
      "Arquivos_Lojas\\202001_Shopping Cidade_MG.csv\n",
      "Arquivos_Lojas\\202001_Shopping Leblon_RJ.csv\n",
      "Arquivos_Lojas\\202001_Shopping Tijuca_RJ.csv\n",
      "Arquivos_Lojas\\202002_Amazonas Shopping_AM.csv\n",
      "Arquivos_Lojas\\202002_Barra Shopping_RJ.csv\n",
      "Arquivos_Lojas\\202002_BH Shopping_MG.csv\n",
      "Arquivos_Lojas\\202002_Bourbon_SP.csv\n",
      "Arquivos_Lojas\\202002_Buriti Shopping_GO.csv\n",
      "Arquivos_Lojas\\202002_Cidade de Sao Paulo_SP.csv\n",
      "Arquivos_Lojas\\202002_Goiania Shopping_GO.csv\n",
      "Arquivos_Lojas\\202002_Ibirapuera_SP.csv\n",
      "Arquivos_Lojas\\202002_Iguatemi_SP.csv\n",
      "Arquivos_Lojas\\202002_Independência Shopping_MG.csv\n",
      "Arquivos_Lojas\\202002_JK Iguatemi_SP.csv\n",
      "Arquivos_Lojas\\202002_Minas Shopping_MG.csv\n",
      "Arquivos_Lojas\\202002_Morumbi_SP.csv\n",
      "Arquivos_Lojas\\202002_Plaza Shopping_RJ.csv\n",
      "Arquivos_Lojas\\202002_Rio Sul_RJ.csv\n",
      "Arquivos_Lojas\\202002_Shopping Cidade_MG.csv\n",
      "Arquivos_Lojas\\202002_Shopping Leblon_RJ.csv\n",
      "Arquivos_Lojas\\202002_Shopping Tijuca_RJ.csv\n",
      "Arquivos_Lojas\\202003_Amazonas Shopping_AM.csv\n",
      "Arquivos_Lojas\\202003_Barra Shopping_RJ.csv\n",
      "Arquivos_Lojas\\202003_BH Shopping_MG.csv\n",
      "Arquivos_Lojas\\202003_Bourbon_SP.csv\n",
      "Arquivos_Lojas\\202003_Buriti Shopping_GO.csv\n",
      "Arquivos_Lojas\\202003_Cidade de Sao Paulo_SP.csv\n",
      "Arquivos_Lojas\\202003_Goiania Shopping_GO.csv\n",
      "Arquivos_Lojas\\202003_Ibirapuera_SP.csv\n",
      "Arquivos_Lojas\\202003_Iguatemi_SP.csv\n",
      "Arquivos_Lojas\\202003_Independência Shopping_MG.csv\n",
      "Arquivos_Lojas\\202003_JK Iguatemi_SP.csv\n",
      "Arquivos_Lojas\\202003_Minas Shopping_MG.csv\n",
      "Arquivos_Lojas\\202003_Morumbi_SP.csv\n",
      "Arquivos_Lojas\\202003_Plaza Shopping_RJ.csv\n",
      "Arquivos_Lojas\\202003_Rio Sul_RJ.csv\n",
      "Arquivos_Lojas\\202003_Shopping Cidade_MG.csv\n",
      "Arquivos_Lojas\\202003_Shopping Leblon_RJ.csv\n",
      "Arquivos_Lojas\\202003_Shopping Tijuca_RJ.csv\n",
      "Arquivos_Lojas\\202004_Amazonas Shopping_AM.csv\n",
      "Arquivos_Lojas\\202004_Barra Shopping_RJ.csv\n",
      "Arquivos_Lojas\\202004_BH Shopping_MG.csv\n",
      "Arquivos_Lojas\\202004_Bourbon_SP.csv\n",
      "Arquivos_Lojas\\202004_Buriti Shopping_GO.csv\n",
      "Arquivos_Lojas\\202004_Cidade de Sao Paulo_SP.csv\n",
      "Arquivos_Lojas\\202004_Goiania Shopping_GO.csv\n",
      "Arquivos_Lojas\\202004_Ibirapuera_SP.csv\n",
      "Arquivos_Lojas\\202004_Iguatemi_SP.csv\n",
      "Arquivos_Lojas\\202004_Independência Shopping_MG.csv\n",
      "Arquivos_Lojas\\202004_JK Iguatemi_SP.csv\n",
      "Arquivos_Lojas\\202004_Minas Shopping_MG.csv\n",
      "Arquivos_Lojas\\202004_Morumbi_SP.csv\n",
      "Arquivos_Lojas\\202004_Plaza Shopping_RJ.csv\n",
      "Arquivos_Lojas\\202004_Rio Sul_RJ.csv\n",
      "Arquivos_Lojas\\202004_Shopping Cidade_MG.csv\n",
      "Arquivos_Lojas\\202004_Shopping Leblon_RJ.csv\n",
      "Arquivos_Lojas\\202004_Shopping Tijuca_RJ.csv\n",
      "Arquivos_Lojas\\AM\n",
      "Arquivos_Lojas\\GO\n",
      "Arquivos_Lojas\\MG\n",
      "Arquivos_Lojas\\New_Folder_test\n",
      "Arquivos_Lojas\\RJ\n",
      "Arquivos_Lojas\\SP\n"
     ]
    }
   ],
   "source": [
    "adress = Path('Arquivos_Lojas/')\n",
    "\n",
    "files = adress.iterdir()\n",
    "\n",
    "for file in files:\n",
    "    print(file)"
   ]
  },
  {
   "cell_type": "code",
   "execution_count": 19,
   "metadata": {},
   "outputs": [],
   "source": [
    "# Filtering .csv files\n",
    "\n",
    "for file in files:\n",
    "    name_file = file.name\n",
    "    if name_file[-3:] == 'csv':\n",
    "        state = name_file[-6:-4]\n",
    "        final_folder = adress / Path(f'{state}/{name_file}')\n",
    "        shutil.move(file, final_folder)      "
   ]
  }
 ],
 "metadata": {
  "kernelspec": {
   "display_name": "Python 3 (ipykernel)",
   "language": "python",
   "name": "python3"
  },
  "language_info": {
   "codemirror_mode": {
    "name": "ipython",
    "version": 3
   },
   "file_extension": ".py",
   "mimetype": "text/x-python",
   "name": "python",
   "nbconvert_exporter": "python",
   "pygments_lexer": "ipython3",
   "version": "3.11.5"
  }
 },
 "nbformat": 4,
 "nbformat_minor": 4
}
